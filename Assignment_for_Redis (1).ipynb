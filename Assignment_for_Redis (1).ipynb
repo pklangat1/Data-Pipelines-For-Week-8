{
  "nbformat": 4,
  "nbformat_minor": 0,
  "metadata": {
    "colab": {
      "provenance": []
    },
    "kernelspec": {
      "name": "python3",
      "display_name": "Python 3"
    },
    "language_info": {
      "name": "python"
    }
  },
  "cells": [
    {
      "cell_type": "markdown",
      "source": [
        "Data Pipelines with Redis\n",
        "\n",
        "Background Information\n",
        "As a telecommunications data engineer, you have been tasked with building a pipeline that can\n",
        "efficiently extract, transform, and load data from CSV files into a Postgres database. The data to\n",
        "be extracted is related to customer call logs, which contain information about the duration, cost,\n",
        "and destination of customer calls. The extracted data needs to be transformed to ensure it is in\n",
        "the correct format and structure for storage in the database. The pipeline should also cache\n",
        "data using Redis to speed up the data extraction and transformation.\n",
        "Guidelines\n",
        "You can follow the steps below:\n",
        "\n",
        "● Start by creating a new Python file and importing the necessary libraries (pandas,\n",
        "psycopg2, and redis).\n",
        "\n",
        "● Create a Redis client object and connect it to the Redis Labs cloud instance.\n",
        "\n",
        "● Create an extract function that reads the CSV files using pandas and caches the data in\n",
        "Redis.\n",
        "\n",
        "● Create a transform function that cleans, structures, and formats the extracted data.\n",
        "\n",
        "● Create a load function that connects to the Postgres database using psycopg2 and loads\n",
        "\n",
        "the transformed data into the database.\n",
        "● Combine the extract, transform, and load functions into a single data pipeline that\n",
        "extracts data from a CSV file, transforms it and loads it into a Postgres database.\n",
        "\n",
        "● Test the pipeline with a sample dataset to ensure it works correctly.\n",
        "Sample CSV Files\n",
        "We’ve provided a sample CSV file (customer_call_logs.csv) that you can use for this data\n",
        "pipeline. Files for this project can be downloaded from here (link).\n",
        "Deliverables\n",
        "\n",
        "We will be expected to deliver a GitHub repository with the following:\n",
        "● A python file for the data pipeline.\n",
        "\n",
        "● Documentation of the pipeline.\n",
        "\n",
        "○ Highlight at least 3 best practices used during the implementation.\n",
        "\n",
        "\n",
        "\n",
        "○ Recommendations for deployment and running the pipeline with a cloud-based\n",
        "provider."
      ],
      "metadata": {
        "id": "phyRoINHtqkL"
      }
    },
    {
      "cell_type": "code",
      "execution_count": null,
      "metadata": {
        "colab": {
          "base_uri": "https://localhost:8080/"
        },
        "id": "2I023isGpaJw",
        "outputId": "43a322b4-77e3-4f27-d7b5-d7fbe47a9ca8"
      },
      "outputs": [
        {
          "output_type": "stream",
          "name": "stdout",
          "text": [
            "Looking in indexes: https://pypi.org/simple, https://us-python.pkg.dev/colab-wheels/public/simple/\n",
            "Requirement already satisfied: redis in /usr/local/lib/python3.9/dist-packages (4.5.4)\n",
            "Requirement already satisfied: async-timeout>=4.0.2 in /usr/local/lib/python3.9/dist-packages (from redis) (4.0.2)\n"
          ]
        }
      ],
      "source": [
        "#Import libray\n",
        "!pip install redis\n",
        "\n"
      ]
    },
    {
      "cell_type": "code",
      "source": [
        "import pandas as pd\n",
        "import psycopg2\n",
        "import redis\n",
        "from datetime import datetime\n",
        "\n",
        "import logging\n",
        "#Setup logger\n",
        "logging.basicConfig(filename='redisdata.log', level=logging.DEBUG)\n"
      ],
      "metadata": {
        "id": "_FOcHNRXrFEv"
      },
      "execution_count": null,
      "outputs": []
    },
    {
      "cell_type": "code",
      "source": [
        "# Redis Cloud Instance Information\n",
        "redis_host = 'redis-13274.c9.us-east-1-4.ec2.cloud.redislabs.com'\n",
        "redis_port = 13274\n",
        "redis_password = 'hvAHQBclIFwdNQnKCUodbnNL3nblebde' "
      ],
      "metadata": {
        "id": "yoV-5xwTrPu1"
      },
      "execution_count": null,
      "outputs": []
    },
    {
      "cell_type": "code",
      "source": [
        "# Redis Client Object info\n",
        "r = redis.Redis(\n",
        "  host=redis_host,\n",
        "  port=redis_port,\n",
        "  password=redis_password,\n",
        "  charset=\"utf-8\", \n",
        "  decode_responses=True)"
      ],
      "metadata": {
        "id": "5cAIdySZrhea"
      },
      "execution_count": null,
      "outputs": []
    },
    {
      "cell_type": "code",
      "source": [
        "!pip install psycopg2"
      ],
      "metadata": {
        "colab": {
          "base_uri": "https://localhost:8080/"
        },
        "id": "kVxy6jWjyWLS",
        "outputId": "4bd345e5-1e5b-4b92-ee6d-ffde4babba55"
      },
      "execution_count": null,
      "outputs": [
        {
          "output_type": "stream",
          "name": "stdout",
          "text": [
            "Looking in indexes: https://pypi.org/simple, https://us-python.pkg.dev/colab-wheels/public/simple/\n",
            "Requirement already satisfied: psycopg2 in /usr/local/lib/python3.9/dist-packages (2.9.6)\n"
          ]
        }
      ]
    },
    {
      "cell_type": "code",
      "source": [
        "\n",
        "import sys\n",
        "# import the connect library for psycopg2\n",
        "import psycopg2\n",
        "# import the error handling libraries for psycopg2\n",
        "from psycopg2 import OperationalError, errorcodes, errors\n",
        "import psycopg2.extras as extras\n",
        "import pandas as pd\n"
      ],
      "metadata": {
        "id": "C1xJmUC6zSDC"
      },
      "execution_count": null,
      "outputs": []
    },
    {
      "cell_type": "code",
      "source": [
        "# Postgres Database Information [running on my PC]\n",
        "pg_host = '127.0.0.1'\n",
        "pg_database = 'postgres'\n",
        "pg_user = 'postgres'\n",
        "pg_password = 'pass12345'"
      ],
      "metadata": {
        "id": "DryBPmUtrjOi"
      },
      "execution_count": null,
      "outputs": []
    },
    {
      "cell_type": "code",
      "source": [
        "#Extract the data\n",
        "def extract_data():\n",
        "    \n",
        "    \"\"\"\n",
        "    Function reads data from csv file on local disk into a dataframe and loads it to redis instance hosted at redislabs.com\n",
        "    Returns the dataframe \n",
        "    \"\"\"\n",
        "    \n",
        "    try:\n",
        "        #read file from local drive\n",
        "        data = pd.read_csv('/content/customer_call_logs.csv')\n",
        "\n",
        "        # Cache data in Redis for faster retrieval\n",
        "        r.set('call_logs1', data.to_json(orient='records'))\n",
        "    \n",
        "    except Exception as e:\n",
        "        err = \"Extract() error - \"+e\n",
        "        logging.debug(err)\n",
        "    \n",
        "    return data"
      ],
      "metadata": {
        "id": "y4C92prqsH7P"
      },
      "execution_count": null,
      "outputs": []
    },
    {
      "cell_type": "code",
      "source": [
        "\n",
        "#read file from local drive\n",
        "data = pd.read_csv('/content/customer_call_logs.csv')\n",
        "data.sample()"
      ],
      "metadata": {
        "colab": {
          "base_uri": "https://localhost:8080/",
          "height": 81
        },
        "id": "RDfRF5E_uXt2",
        "outputId": "856df156-e4c6-4745-f7fb-af0a8e3fe887"
      },
      "execution_count": null,
      "outputs": [
        {
          "output_type": "execute_result",
          "data": {
            "text/plain": [
              "   customer_id call_cost call_destination            call_date call_duration\n",
              "1         1002     $2.50          Mombasa  2022-01-01 10:05:00      00:08:15"
            ],
            "text/html": [
              "\n",
              "  <div id=\"df-eff7c134-8d79-4697-9ef2-4f4922530764\">\n",
              "    <div class=\"colab-df-container\">\n",
              "      <div>\n",
              "<style scoped>\n",
              "    .dataframe tbody tr th:only-of-type {\n",
              "        vertical-align: middle;\n",
              "    }\n",
              "\n",
              "    .dataframe tbody tr th {\n",
              "        vertical-align: top;\n",
              "    }\n",
              "\n",
              "    .dataframe thead th {\n",
              "        text-align: right;\n",
              "    }\n",
              "</style>\n",
              "<table border=\"1\" class=\"dataframe\">\n",
              "  <thead>\n",
              "    <tr style=\"text-align: right;\">\n",
              "      <th></th>\n",
              "      <th>customer_id</th>\n",
              "      <th>call_cost</th>\n",
              "      <th>call_destination</th>\n",
              "      <th>call_date</th>\n",
              "      <th>call_duration</th>\n",
              "    </tr>\n",
              "  </thead>\n",
              "  <tbody>\n",
              "    <tr>\n",
              "      <th>1</th>\n",
              "      <td>1002</td>\n",
              "      <td>$2.50</td>\n",
              "      <td>Mombasa</td>\n",
              "      <td>2022-01-01 10:05:00</td>\n",
              "      <td>00:08:15</td>\n",
              "    </tr>\n",
              "  </tbody>\n",
              "</table>\n",
              "</div>\n",
              "      <button class=\"colab-df-convert\" onclick=\"convertToInteractive('df-eff7c134-8d79-4697-9ef2-4f4922530764')\"\n",
              "              title=\"Convert this dataframe to an interactive table.\"\n",
              "              style=\"display:none;\">\n",
              "        \n",
              "  <svg xmlns=\"http://www.w3.org/2000/svg\" height=\"24px\"viewBox=\"0 0 24 24\"\n",
              "       width=\"24px\">\n",
              "    <path d=\"M0 0h24v24H0V0z\" fill=\"none\"/>\n",
              "    <path d=\"M18.56 5.44l.94 2.06.94-2.06 2.06-.94-2.06-.94-.94-2.06-.94 2.06-2.06.94zm-11 1L8.5 8.5l.94-2.06 2.06-.94-2.06-.94L8.5 2.5l-.94 2.06-2.06.94zm10 10l.94 2.06.94-2.06 2.06-.94-2.06-.94-.94-2.06-.94 2.06-2.06.94z\"/><path d=\"M17.41 7.96l-1.37-1.37c-.4-.4-.92-.59-1.43-.59-.52 0-1.04.2-1.43.59L10.3 9.45l-7.72 7.72c-.78.78-.78 2.05 0 2.83L4 21.41c.39.39.9.59 1.41.59.51 0 1.02-.2 1.41-.59l7.78-7.78 2.81-2.81c.8-.78.8-2.07 0-2.86zM5.41 20L4 18.59l7.72-7.72 1.47 1.35L5.41 20z\"/>\n",
              "  </svg>\n",
              "      </button>\n",
              "      \n",
              "  <style>\n",
              "    .colab-df-container {\n",
              "      display:flex;\n",
              "      flex-wrap:wrap;\n",
              "      gap: 12px;\n",
              "    }\n",
              "\n",
              "    .colab-df-convert {\n",
              "      background-color: #E8F0FE;\n",
              "      border: none;\n",
              "      border-radius: 50%;\n",
              "      cursor: pointer;\n",
              "      display: none;\n",
              "      fill: #1967D2;\n",
              "      height: 32px;\n",
              "      padding: 0 0 0 0;\n",
              "      width: 32px;\n",
              "    }\n",
              "\n",
              "    .colab-df-convert:hover {\n",
              "      background-color: #E2EBFA;\n",
              "      box-shadow: 0px 1px 2px rgba(60, 64, 67, 0.3), 0px 1px 3px 1px rgba(60, 64, 67, 0.15);\n",
              "      fill: #174EA6;\n",
              "    }\n",
              "\n",
              "    [theme=dark] .colab-df-convert {\n",
              "      background-color: #3B4455;\n",
              "      fill: #D2E3FC;\n",
              "    }\n",
              "\n",
              "    [theme=dark] .colab-df-convert:hover {\n",
              "      background-color: #434B5C;\n",
              "      box-shadow: 0px 1px 3px 1px rgba(0, 0, 0, 0.15);\n",
              "      filter: drop-shadow(0px 1px 2px rgba(0, 0, 0, 0.3));\n",
              "      fill: #FFFFFF;\n",
              "    }\n",
              "  </style>\n",
              "\n",
              "      <script>\n",
              "        const buttonEl =\n",
              "          document.querySelector('#df-eff7c134-8d79-4697-9ef2-4f4922530764 button.colab-df-convert');\n",
              "        buttonEl.style.display =\n",
              "          google.colab.kernel.accessAllowed ? 'block' : 'none';\n",
              "\n",
              "        async function convertToInteractive(key) {\n",
              "          const element = document.querySelector('#df-eff7c134-8d79-4697-9ef2-4f4922530764');\n",
              "          const dataTable =\n",
              "            await google.colab.kernel.invokeFunction('convertToInteractive',\n",
              "                                                     [key], {});\n",
              "          if (!dataTable) return;\n",
              "\n",
              "          const docLinkHtml = 'Like what you see? Visit the ' +\n",
              "            '<a target=\"_blank\" href=https://colab.research.google.com/notebooks/data_table.ipynb>data table notebook</a>'\n",
              "            + ' to learn more about interactive tables.';\n",
              "          element.innerHTML = '';\n",
              "          dataTable['output_type'] = 'display_data';\n",
              "          await google.colab.output.renderOutput(dataTable, element);\n",
              "          const docLink = document.createElement('div');\n",
              "          docLink.innerHTML = docLinkHtml;\n",
              "          element.appendChild(docLink);\n",
              "        }\n",
              "      </script>\n",
              "    </div>\n",
              "  </div>\n",
              "  "
            ]
          },
          "metadata": {},
          "execution_count": 109
        }
      ]
    },
    {
      "cell_type": "code",
      "source": [
        "def transform_data():\n",
        "    \n",
        "    \"\"\"\n",
        "    Function retrieves data from redis cache to speed up performance \n",
        "    Data preprocessing and cleaning is done - convert date column to datetime data type, remove dollar sign from call cost column\n",
        "    Returns dataframe containing the processed/cleaned data\n",
        "    \"\"\"\n",
        "    \n",
        "    try:\n",
        "        # Retrieve data from Redis cache\n",
        "        data = pd.read_json(r.get('call_logs1'))\n",
        "\n",
        "        #Cast call_date column from object to datetime\n",
        "        data['call_date'] = pd.to_datetime(data['call_date']) \n",
        "\n",
        "        # Remove dollar sign from column 'call_cost'\n",
        "        data['call_cost'] = data['call_cost'].str.replace('$', '')\n",
        "\n",
        "        transformed_data = data\n",
        "    \n",
        "    except Exception as e:\n",
        "        err = \"Transform() error - \"+e\n",
        "        logging.debug(err)\n",
        "    \n",
        "    return transformed_data"
      ],
      "metadata": {
        "id": "-EB6lPY-sZn0"
      },
      "execution_count": null,
      "outputs": []
    },
    {
      "cell_type": "code",
      "source": [
        "def load_data(transformed_data):\n",
        "    \n",
        "    \"\"\"\n",
        "    Function connects to postgres instance running on local PC \n",
        "    Transformed_data df is loaded into postgres database \n",
        "    Connection to postgres is then closed\n",
        "    \n",
        "    \"\"\"\n",
        "    \n",
        "    try:\n",
        "        # Connect to Postgres database\n",
        "        #conn = psycopg2.connect(“dbname=test user=postgres password=secret”)\n",
        "        conn = psycopg2.connect(host=pg_host, database=pg_database, user=pg_user, password=pg_password)\n",
        "\n",
        "        # Create a cursor object\n",
        "        cur = conn.cursor()\n",
        "\n",
        "        # Create a table to store the data\n",
        "        cur.execute('CREATE TABLE IF NOT EXISTS customer_call_logs (\\\n",
        "                     customer_id INT,\\\n",
        "                     call_cost_usd FLOAT,\\\n",
        "                     call_destination VARCHAR,\\\n",
        "                     call_date TIMESTAMP,\\\n",
        "                     call_duration_min VARCHAR\\\n",
        "                     )')\n",
        "\n",
        "        # Insert the transformed data into the database\n",
        "        for i, row in transformed_data.iterrows():\n",
        "            cur.execute(f\"INSERT INTO customer_call_logs (customer_id, call_cost_usd, call_destination, call_date, call_duration_min) VALUES ({row['customer_id']}, {row['call_cost']}, '{row['call_destination']}', '{row['call_date']}', '{row['call_duration']}')\")\n",
        "\n",
        "        # Commit the changes\n",
        "        conn.commit()\n",
        "\n",
        "        # Close the cursor and connection\n",
        "        cur.close()\n",
        "        conn.close()\n",
        "    \n",
        "    except Exception as e:\n",
        "        err = \"Load() error - \"+e\n",
        "        logging.debug(err)\n",
        "        "
      ],
      "metadata": {
        "id": "EZpyfVpVssVy"
      },
      "execution_count": null,
      "outputs": []
    },
    {
      "cell_type": "code",
      "source": [
        "def data_pipeline():\n",
        "    # Data pipeline function\n",
        "    extract_data()\n",
        "    transformed_data = transform_data()\n",
        "    load_data(transformed_data)"
      ],
      "metadata": {
        "id": "7ySgmOrusv7w"
      },
      "execution_count": null,
      "outputs": []
    },
    {
      "cell_type": "code",
      "source": [
        "if __name__ == '__main__':\n",
        "    # Run the data pipeline function\n",
        "    data_pipeline()\n"
      ],
      "metadata": {
        "id": "Aw6YrNwZs2vo"
      },
      "execution_count": null,
      "outputs": []
    },
    {
      "cell_type": "markdown",
      "source": [],
      "metadata": {
        "id": "DwIlo0CDtnc2"
      }
    }
  ]
}