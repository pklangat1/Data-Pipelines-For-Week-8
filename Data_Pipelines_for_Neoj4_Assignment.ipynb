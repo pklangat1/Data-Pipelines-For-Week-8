{
  "nbformat": 4,
  "nbformat_minor": 0,
  "metadata": {
    "colab": {
      "provenance": []
    },
    "kernelspec": {
      "name": "python3",
      "display_name": "Python 3"
    },
    "language_info": {
      "name": "python"
    }
  },
  "cells": [
    {
      "cell_type": "code",
      "source": [
        "#Install the neo4j driver:\n",
        "!pip install neo4j"
      ],
      "metadata": {
        "colab": {
          "base_uri": "https://localhost:8080/"
        },
        "id": "yu3xgUrJGKTF",
        "outputId": "0db72f63-4da2-430b-f8c4-7fee9030540d"
      },
      "execution_count": 2,
      "outputs": [
        {
          "output_type": "stream",
          "name": "stdout",
          "text": [
            "Looking in indexes: https://pypi.org/simple, https://us-python.pkg.dev/colab-wheels/public/simple/\n",
            "Collecting neo4j\n",
            "  Downloading neo4j-5.7.0.tar.gz (176 kB)\n",
            "\u001b[2K     \u001b[90m━━━━━━━━━━━━━━━━━━━━━━━━━━━━━━━━━━━━━━━\u001b[0m \u001b[32m176.3/176.3 kB\u001b[0m \u001b[31m7.9 MB/s\u001b[0m eta \u001b[36m0:00:00\u001b[0m\n",
            "\u001b[?25h  Installing build dependencies ... \u001b[?25l\u001b[?25hdone\n",
            "  Getting requirements to build wheel ... \u001b[?25l\u001b[?25hdone\n",
            "  Installing backend dependencies ... \u001b[?25l\u001b[?25hdone\n",
            "  Preparing metadata (pyproject.toml) ... \u001b[?25l\u001b[?25hdone\n",
            "Requirement already satisfied: pytz in /usr/local/lib/python3.9/dist-packages (from neo4j) (2022.7.1)\n",
            "Building wheels for collected packages: neo4j\n",
            "  Building wheel for neo4j (pyproject.toml) ... \u001b[?25l\u001b[?25hdone\n",
            "  Created wheel for neo4j: filename=neo4j-5.7.0-py3-none-any.whl size=243954 sha256=3f6d7594de7ffaffd649bd933172b6a7cc0b46e49db43990362603769b750a9f\n",
            "  Stored in directory: /root/.cache/pip/wheels/6d/be/1e/749b84bba4b7429145ea09ccb46114fab4748625eb319f286a\n",
            "Successfully built neo4j\n",
            "Installing collected packages: neo4j\n",
            "Successfully installed neo4j-5.7.0\n"
          ]
        }
      ]
    },
    {
      "cell_type": "code",
      "source": [
        "#Import the GraphDatabase.driver module:\n",
        "from neo4j import GraphDatabase"
      ],
      "metadata": {
        "id": "8FsASrALGTll"
      },
      "execution_count": 3,
      "outputs": []
    },
    {
      "cell_type": "code",
      "execution_count": 4,
      "metadata": {
        "id": "KyaNJwrnFe5f"
      },
      "outputs": [],
      "source": [
        "# Import required libraries\n",
        "from neo4j import GraphDatabase,basic_auth\n",
        "import pandas as pd\n",
        "import psycopg2\n",
        "\n",
        "import logging\n",
        "#Setup logger\n",
        "logging.basicConfig(filename='pipeline.log', level=logging.DEBUG)"
      ]
    },
    {
      "cell_type": "code",
      "source": [
        "# Define Neo4j connection details\n",
        "neo4j_uri = \"neo4j+s://968e72f6.databases.neo4j.io\"\n",
        "neo4j_user = \"neo4j\"\n",
        "neo4j_password = \"VdUIagcWA11O3v7PxrmpYQEG67ayEjUyqwRQN4m_dmg\""
      ],
      "metadata": {
        "id": "_nkZ4LO6GXge"
      },
      "execution_count": 6,
      "outputs": []
    },
    {
      "cell_type": "code",
      "source": [
        "# Postgres Database Information [running on my PC]\n",
        "pg_host = 'localhost'\n",
        "pg_database = 'postgres'\n",
        "pg_user = 'postgres'\n",
        "pg_password = 'pass12345'"
      ],
      "metadata": {
        "id": "suN_cYbJGick"
      },
      "execution_count": 7,
      "outputs": []
    },
    {
      "cell_type": "code",
      "source": [
        "# Define Neo4j query to extract data\n",
        "neo4j_query = \"MATCH (c:customer_data) RETURN c\""
      ],
      "metadata": {
        "id": "N1LA98NXJYn1"
      },
      "execution_count": 8,
      "outputs": []
    },
    {
      "cell_type": "code",
      "source": [
        "# Define function to extract data from Neo4j and return a Pandas DataFrame\n",
        "def extract_data(uri, user, pwd, q):\n",
        "    \n",
        "    \"\"\"\n",
        "    Extract function that connects to Neo4j database and returns records from the customer_data node in pandas dataframe\n",
        "    \"\"\"\n",
        "    # Connect to Neo4j\n",
        "    try:\n",
        "        driver = GraphDatabase.driver(uri, auth=(user, pwd))\n",
        "\n",
        "        with driver.session() as session:\n",
        "            query = q\n",
        "            results = session.run(query)\n",
        "            df = pd.DataFrame([dict(record['c']) for record in results])\n",
        "\n",
        "        driver.close()\n",
        "    except Exception as e:\n",
        "        err = \"Extract() error - \"+str(e)\n",
        "        logging.debug(err)\n",
        "        \n",
        "        \n",
        "    return df"
      ],
      "metadata": {
        "id": "F6cDIwfSJebE"
      },
      "execution_count": 9,
      "outputs": []
    },
    {
      "cell_type": "code",
      "source": [
        "# Define function to transform data\n",
        "def transform_data(df):\n",
        "    \n",
        "    \"\"\"\n",
        "    Transform function that converts date columns from string to datetime format, drops unneeded column and null values \n",
        "    Function returns cleaned df\n",
        "    \"\"\"\n",
        "    # Convert date fields to datetime objects\n",
        "    try:\n",
        "        \n",
        "        df[\"start_date\"] = pd.to_datetime(df[\"start_date\"],format='%d-%m-%Y')\n",
        "        df[\"end_date\"] = pd.to_datetime(df[\"end_date\"],format='%d-%m-%Y')\n",
        "\n",
        "        #drop date of birth column\n",
        "        df = df.drop('date_of_birth', axis=1)\n",
        "\n",
        "        # Remove null values\n",
        "        df = df.dropna()\n",
        "    \n",
        "    except Exception as e:\n",
        "        err = \"Transform() error - \"+str(e)\n",
        "        logging.debug(err)\n",
        "     \n",
        "    return df\n"
      ],
      "metadata": {
        "id": "9OmvT3v_Jh69"
      },
      "execution_count": 10,
      "outputs": []
    },
    {
      "cell_type": "code",
      "source": [
        "# Define function to load data into Postgres\n",
        "def load_data(transformed_df):\n",
        "    \n",
        "    \"\"\"\n",
        "    Function connects to local postgres db instance running on docker desktop\n",
        "    It creates table and uploads contents of transformed df into the table\n",
        "    \"\"\"\n",
        "    # Connect to Postgres\n",
        "    try:\n",
        "        \n",
        "        conn = psycopg2.connect(host=pg_host, database=pg_database, user=pg_user, password=pg_password)\n",
        "        # Create table if it doesn't exist\n",
        "        with conn.cursor() as cursor:\n",
        "            cursor.execute(\"\"\"\n",
        "            CREATE TABLE IF NOT EXISTS telecom_data (\n",
        "                customer_id INTEGER,\n",
        "                subscription_id INTEGER,\n",
        "                service_id VARCHAR,\n",
        "                start_date DATE,\n",
        "                end_date DATE,\n",
        "                price FLOAT\n",
        "            )\n",
        "            \"\"\")\n",
        "      \n",
        "            for _, row in transformed_df.iterrows():\n",
        "                cursor.execute(\"INSERT INTO telecom_data (customer_id, subscription_id, service_id, start_date, end_date, price) VALUES (%s, %s, %s, %s, %s, %s)\",\n",
        "                       (row['customer_id'], row['subscription_id'], row['service_id'], row['start_date'], row['end_date'], row['subscription_price']))\n",
        "\n",
        "\n",
        "        conn.commit()\n",
        "\n",
        "\n",
        "        # Close the cursor and connection\n",
        "        cursor.close()\n",
        "        conn.close()\n",
        "    \n",
        "    except Exception as e:\n",
        "        err = \"Load() error - \"+str(e)\n",
        "        logging.debug(err)\n",
        "        "
      ],
      "metadata": {
        "id": "prEPEHDMJq18"
      },
      "execution_count": 11,
      "outputs": []
    },
    {
      "cell_type": "code",
      "source": [
        "# Define main function\n",
        "def main():\n",
        "    # Extract data from Neo4j\n",
        "    df = extract_data(neo4j_uri, neo4j_user, neo4j_password, neo4j_query)\n",
        "    \n",
        "    # Transform data using Pandas\n",
        "    df = transform_data(df)\n",
        "    \n",
        "    # Load data into Postgres\n",
        "    load_data(df)"
      ],
      "metadata": {
        "id": "4tjuup6jJyc0"
      },
      "execution_count": 12,
      "outputs": []
    },
    {
      "cell_type": "code",
      "source": [
        "# Call main function\n",
        "if __name__ == \"__main__\":\n",
        "    main()"
      ],
      "metadata": {
        "id": "tQvBMA4JJ2u9"
      },
      "execution_count": 13,
      "outputs": []
    }
  ]
}